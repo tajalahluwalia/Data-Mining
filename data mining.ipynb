{
 "cells": [
  {
   "cell_type": "code",
   "execution_count": 1,
   "id": "surgical-intranet",
   "metadata": {},
   "outputs": [
    {
     "name": "stdout",
     "output_type": "stream",
     "text": [
      "Success: downloaded credit_card_default.csv.\n",
      "Success: Data loaded into dataframe.\n"
     ]
    }
   ],
   "source": [
    "# Download the data.    \n",
    "\n",
    "import pandas as pd\n",
    "import numpy as np\n",
    "import urllib\n",
    "\n",
    "try:\n",
    "  urllib.request.urlretrieve (\"https://github.com/PacktPublishing/Python-for-Finance-Cookbook/raw/master/Datasets/credit_card_default.csv\", \"credit_card_default.csv\")\n",
    "  print('Success: downloaded credit_card_default.csv.')\n",
    "except Exception as e:\n",
    "  print('Data load error: ',e)\n",
    "\n",
    "# load the data into a dataframe with null values as blanks\n",
    "try:\n",
    "  df = pd.read_csv('./credit_card_default.csv',index_col=0, na_values='')\n",
    "  print('Success: Data loaded into dataframe.')\n",
    "except Exception as e:\n",
    "    print('Data load error: ',e)"
   ]
  },
  {
   "cell_type": "markdown",
   "id": "naval-burton",
   "metadata": {},
   "source": [
    "## Implementing scikit-learn's pipelines"
   ]
  },
  {
   "cell_type": "code",
   "execution_count": 2,
   "id": "headed-arabic",
   "metadata": {},
   "outputs": [],
   "source": [
    "# 1. Import the libraries:\n",
    "import pandas as pd\n",
    "from sklearn.model_selection import train_test_split\n",
    "from sklearn.impute import SimpleImputer\n",
    "from sklearn.preprocessing import OneHotEncoder\n",
    "from sklearn.compose import ColumnTransformer\n",
    "from sklearn.tree import DecisionTreeClassifier\n",
    "from sklearn.pipeline import Pipeline"
   ]
  },
  {
   "cell_type": "code",
   "execution_count": 3,
   "id": "excellent-buffalo",
   "metadata": {},
   "outputs": [],
   "source": [
    "# 2. Load the data, separate the target, and create the stratified train-test split:\n",
    "df = pd.read_csv('credit_card_default.csv', index_col=0, na_values='')\n",
    "X = df.copy()\n",
    "y = X.pop('default_payment_next_month')\n",
    "X_train, X_test, y_train, y_test = train_test_split(X, y, test_size=0.2, stratify=y)"
   ]
  },
  {
   "cell_type": "code",
   "execution_count": 4,
   "id": "compact-princeton",
   "metadata": {},
   "outputs": [],
   "source": [
    "# 3. Store lists of numerical/categorical features:\n",
    "num_features = X_train.select_dtypes(include='number') \\\n",
    "              .columns.to_list()\n",
    "cat_features = X_train.select_dtypes(include='object') \\\n",
    "              .columns.to_list()"
   ]
  },
  {
   "cell_type": "code",
   "execution_count": 5,
   "id": "sought-uganda",
   "metadata": {},
   "outputs": [],
   "source": [
    "# 4. Define the numerical Pipeline:\n",
    "num_pipeline = Pipeline(steps=[('imputer', \n",
    "                                SimpleImputer(strategy='median'))])"
   ]
  },
  {
   "cell_type": "code",
   "execution_count": 6,
   "id": "dangerous-disclosure",
   "metadata": {},
   "outputs": [],
   "source": [
    "# 5. Define the categorical Pipeline:\n",
    "cat_list = [list(X_train[col].dropna().unique()) for col in\n",
    "cat_features]\n",
    "cat_pipeline = Pipeline(steps=[('imputer', SimpleImputer(strategy='most_frequent')),\n",
    "                               ('onehot', OneHotEncoder(categories=cat_list, \n",
    "                                                        sparse=False,handle_unknown='error', \n",
    "                                                        drop='first'))])"
   ]
  },
  {
   "cell_type": "code",
   "execution_count": 7,
   "id": "israeli-determination",
   "metadata": {},
   "outputs": [],
   "source": [
    "# 6. Define the column transformer object:\n",
    "preprocessor = ColumnTransformer(transformers=[('numerical', num_pipeline, num_features),\n",
    "                                               ('categorical', cat_pipeline, cat_features)],\n",
    "                                 remainder='drop')"
   ]
  },
  {
   "cell_type": "code",
   "execution_count": 8,
   "id": "artificial-pillow",
   "metadata": {},
   "outputs": [],
   "source": [
    "# 7. Create a joint Pipeline:\n",
    "dec_tree = DecisionTreeClassifier(random_state=42)\n",
    "tree_pipeline = Pipeline(steps=[('preprocessor', preprocessor),\n",
    "                               ('classifier', dec_tree)])"
   ]
  },
  {
   "cell_type": "code",
   "execution_count": 9,
   "id": "sound-accommodation",
   "metadata": {},
   "outputs": [
    {
     "data": {
      "text/html": [
       "<style>#sk-container-id-1 {color: black;background-color: white;}#sk-container-id-1 pre{padding: 0;}#sk-container-id-1 div.sk-toggleable {background-color: white;}#sk-container-id-1 label.sk-toggleable__label {cursor: pointer;display: block;width: 100%;margin-bottom: 0;padding: 0.3em;box-sizing: border-box;text-align: center;}#sk-container-id-1 label.sk-toggleable__label-arrow:before {content: \"▸\";float: left;margin-right: 0.25em;color: #696969;}#sk-container-id-1 label.sk-toggleable__label-arrow:hover:before {color: black;}#sk-container-id-1 div.sk-estimator:hover label.sk-toggleable__label-arrow:before {color: black;}#sk-container-id-1 div.sk-toggleable__content {max-height: 0;max-width: 0;overflow: hidden;text-align: left;background-color: #f0f8ff;}#sk-container-id-1 div.sk-toggleable__content pre {margin: 0.2em;color: black;border-radius: 0.25em;background-color: #f0f8ff;}#sk-container-id-1 input.sk-toggleable__control:checked~div.sk-toggleable__content {max-height: 200px;max-width: 100%;overflow: auto;}#sk-container-id-1 input.sk-toggleable__control:checked~label.sk-toggleable__label-arrow:before {content: \"▾\";}#sk-container-id-1 div.sk-estimator input.sk-toggleable__control:checked~label.sk-toggleable__label {background-color: #d4ebff;}#sk-container-id-1 div.sk-label input.sk-toggleable__control:checked~label.sk-toggleable__label {background-color: #d4ebff;}#sk-container-id-1 input.sk-hidden--visually {border: 0;clip: rect(1px 1px 1px 1px);clip: rect(1px, 1px, 1px, 1px);height: 1px;margin: -1px;overflow: hidden;padding: 0;position: absolute;width: 1px;}#sk-container-id-1 div.sk-estimator {font-family: monospace;background-color: #f0f8ff;border: 1px dotted black;border-radius: 0.25em;box-sizing: border-box;margin-bottom: 0.5em;}#sk-container-id-1 div.sk-estimator:hover {background-color: #d4ebff;}#sk-container-id-1 div.sk-parallel-item::after {content: \"\";width: 100%;border-bottom: 1px solid gray;flex-grow: 1;}#sk-container-id-1 div.sk-label:hover label.sk-toggleable__label {background-color: #d4ebff;}#sk-container-id-1 div.sk-serial::before {content: \"\";position: absolute;border-left: 1px solid gray;box-sizing: border-box;top: 0;bottom: 0;left: 50%;z-index: 0;}#sk-container-id-1 div.sk-serial {display: flex;flex-direction: column;align-items: center;background-color: white;padding-right: 0.2em;padding-left: 0.2em;position: relative;}#sk-container-id-1 div.sk-item {position: relative;z-index: 1;}#sk-container-id-1 div.sk-parallel {display: flex;align-items: stretch;justify-content: center;background-color: white;position: relative;}#sk-container-id-1 div.sk-item::before, #sk-container-id-1 div.sk-parallel-item::before {content: \"\";position: absolute;border-left: 1px solid gray;box-sizing: border-box;top: 0;bottom: 0;left: 50%;z-index: -1;}#sk-container-id-1 div.sk-parallel-item {display: flex;flex-direction: column;z-index: 1;position: relative;background-color: white;}#sk-container-id-1 div.sk-parallel-item:first-child::after {align-self: flex-end;width: 50%;}#sk-container-id-1 div.sk-parallel-item:last-child::after {align-self: flex-start;width: 50%;}#sk-container-id-1 div.sk-parallel-item:only-child::after {width: 0;}#sk-container-id-1 div.sk-dashed-wrapped {border: 1px dashed gray;margin: 0 0.4em 0.5em 0.4em;box-sizing: border-box;padding-bottom: 0.4em;background-color: white;}#sk-container-id-1 div.sk-label label {font-family: monospace;font-weight: bold;display: inline-block;line-height: 1.2em;}#sk-container-id-1 div.sk-label-container {text-align: center;}#sk-container-id-1 div.sk-container {/* jupyter's `normalize.less` sets `[hidden] { display: none; }` but bootstrap.min.css set `[hidden] { display: none !important; }` so we also need the `!important` here to be able to override the default hidden behavior on the sphinx rendered scikit-learn.org. See: https://github.com/scikit-learn/scikit-learn/issues/21755 */display: inline-block !important;position: relative;}#sk-container-id-1 div.sk-text-repr-fallback {display: none;}</style><div id=\"sk-container-id-1\" class=\"sk-top-container\"><div class=\"sk-text-repr-fallback\"><pre>Pipeline(steps=[(&#x27;preprocessor&#x27;,\n",
       "                 ColumnTransformer(transformers=[(&#x27;numerical&#x27;,\n",
       "                                                  Pipeline(steps=[(&#x27;imputer&#x27;,\n",
       "                                                                   SimpleImputer(strategy=&#x27;median&#x27;))]),\n",
       "                                                  [&#x27;limit_bal&#x27;, &#x27;age&#x27;,\n",
       "                                                   &#x27;bill_statement_sep&#x27;,\n",
       "                                                   &#x27;bill_statement_aug&#x27;,\n",
       "                                                   &#x27;bill_statement_jul&#x27;,\n",
       "                                                   &#x27;bill_statement_jun&#x27;,\n",
       "                                                   &#x27;bill_statement_may&#x27;,\n",
       "                                                   &#x27;bill_statement_apr&#x27;,\n",
       "                                                   &#x27;previous_payment_sep&#x27;,\n",
       "                                                   &#x27;previous_payment_aug&#x27;,\n",
       "                                                   &#x27;previous_payment_j...\n",
       "                                                                                              &#x27;4 &#x27;\n",
       "                                                                                              &#x27;months&#x27;,\n",
       "                                                                                              &#x27;Payment &#x27;\n",
       "                                                                                              &#x27;delayed &#x27;\n",
       "                                                                                              &#x27;5 &#x27;\n",
       "                                                                                              &#x27;months&#x27;,\n",
       "                                                                                              &#x27;Payment &#x27;\n",
       "                                                                                              &#x27;delayed &#x27;\n",
       "                                                                                              &#x27;6 &#x27;\n",
       "                                                                                              &#x27;months&#x27;,\n",
       "                                                                                              &#x27;Payment &#x27;\n",
       "                                                                                              &#x27;delayed &#x27;\n",
       "                                                                                              &#x27;8 &#x27;\n",
       "                                                                                              &#x27;months&#x27;]],\n",
       "                                                                                 drop=&#x27;first&#x27;,\n",
       "                                                                                 sparse=False))]),\n",
       "                                                  [&#x27;sex&#x27;, &#x27;education&#x27;,\n",
       "                                                   &#x27;marriage&#x27;,\n",
       "                                                   &#x27;payment_status_sep&#x27;,\n",
       "                                                   &#x27;payment_status_aug&#x27;,\n",
       "                                                   &#x27;payment_status_jul&#x27;,\n",
       "                                                   &#x27;payment_status_jun&#x27;,\n",
       "                                                   &#x27;payment_status_may&#x27;,\n",
       "                                                   &#x27;payment_status_apr&#x27;])])),\n",
       "                (&#x27;classifier&#x27;, DecisionTreeClassifier(random_state=42))])</pre><b>In a Jupyter environment, please rerun this cell to show the HTML representation or trust the notebook. <br />On GitHub, the HTML representation is unable to render, please try loading this page with nbviewer.org.</b></div><div class=\"sk-container\" hidden><div class=\"sk-item sk-dashed-wrapped\"><div class=\"sk-label-container\"><div class=\"sk-label sk-toggleable\"><input class=\"sk-toggleable__control sk-hidden--visually\" id=\"sk-estimator-id-1\" type=\"checkbox\" ><label for=\"sk-estimator-id-1\" class=\"sk-toggleable__label sk-toggleable__label-arrow\">Pipeline</label><div class=\"sk-toggleable__content\"><pre>Pipeline(steps=[(&#x27;preprocessor&#x27;,\n",
       "                 ColumnTransformer(transformers=[(&#x27;numerical&#x27;,\n",
       "                                                  Pipeline(steps=[(&#x27;imputer&#x27;,\n",
       "                                                                   SimpleImputer(strategy=&#x27;median&#x27;))]),\n",
       "                                                  [&#x27;limit_bal&#x27;, &#x27;age&#x27;,\n",
       "                                                   &#x27;bill_statement_sep&#x27;,\n",
       "                                                   &#x27;bill_statement_aug&#x27;,\n",
       "                                                   &#x27;bill_statement_jul&#x27;,\n",
       "                                                   &#x27;bill_statement_jun&#x27;,\n",
       "                                                   &#x27;bill_statement_may&#x27;,\n",
       "                                                   &#x27;bill_statement_apr&#x27;,\n",
       "                                                   &#x27;previous_payment_sep&#x27;,\n",
       "                                                   &#x27;previous_payment_aug&#x27;,\n",
       "                                                   &#x27;previous_payment_j...\n",
       "                                                                                              &#x27;4 &#x27;\n",
       "                                                                                              &#x27;months&#x27;,\n",
       "                                                                                              &#x27;Payment &#x27;\n",
       "                                                                                              &#x27;delayed &#x27;\n",
       "                                                                                              &#x27;5 &#x27;\n",
       "                                                                                              &#x27;months&#x27;,\n",
       "                                                                                              &#x27;Payment &#x27;\n",
       "                                                                                              &#x27;delayed &#x27;\n",
       "                                                                                              &#x27;6 &#x27;\n",
       "                                                                                              &#x27;months&#x27;,\n",
       "                                                                                              &#x27;Payment &#x27;\n",
       "                                                                                              &#x27;delayed &#x27;\n",
       "                                                                                              &#x27;8 &#x27;\n",
       "                                                                                              &#x27;months&#x27;]],\n",
       "                                                                                 drop=&#x27;first&#x27;,\n",
       "                                                                                 sparse=False))]),\n",
       "                                                  [&#x27;sex&#x27;, &#x27;education&#x27;,\n",
       "                                                   &#x27;marriage&#x27;,\n",
       "                                                   &#x27;payment_status_sep&#x27;,\n",
       "                                                   &#x27;payment_status_aug&#x27;,\n",
       "                                                   &#x27;payment_status_jul&#x27;,\n",
       "                                                   &#x27;payment_status_jun&#x27;,\n",
       "                                                   &#x27;payment_status_may&#x27;,\n",
       "                                                   &#x27;payment_status_apr&#x27;])])),\n",
       "                (&#x27;classifier&#x27;, DecisionTreeClassifier(random_state=42))])</pre></div></div></div><div class=\"sk-serial\"><div class=\"sk-item sk-dashed-wrapped\"><div class=\"sk-label-container\"><div class=\"sk-label sk-toggleable\"><input class=\"sk-toggleable__control sk-hidden--visually\" id=\"sk-estimator-id-2\" type=\"checkbox\" ><label for=\"sk-estimator-id-2\" class=\"sk-toggleable__label sk-toggleable__label-arrow\">preprocessor: ColumnTransformer</label><div class=\"sk-toggleable__content\"><pre>ColumnTransformer(transformers=[(&#x27;numerical&#x27;,\n",
       "                                 Pipeline(steps=[(&#x27;imputer&#x27;,\n",
       "                                                  SimpleImputer(strategy=&#x27;median&#x27;))]),\n",
       "                                 [&#x27;limit_bal&#x27;, &#x27;age&#x27;, &#x27;bill_statement_sep&#x27;,\n",
       "                                  &#x27;bill_statement_aug&#x27;, &#x27;bill_statement_jul&#x27;,\n",
       "                                  &#x27;bill_statement_jun&#x27;, &#x27;bill_statement_may&#x27;,\n",
       "                                  &#x27;bill_statement_apr&#x27;, &#x27;previous_payment_sep&#x27;,\n",
       "                                  &#x27;previous_payment_aug&#x27;,\n",
       "                                  &#x27;previous_payment_jul&#x27;,\n",
       "                                  &#x27;previous_payment_jun&#x27;,\n",
       "                                  &#x27;prev...\n",
       "                                                                             &#x27;months&#x27;,\n",
       "                                                                             &#x27;Payment &#x27;\n",
       "                                                                             &#x27;delayed &#x27;\n",
       "                                                                             &#x27;3 &#x27;\n",
       "                                                                             &#x27;months&#x27;,\n",
       "                                                                             &#x27;Payment &#x27;\n",
       "                                                                             &#x27;delayed &#x27;\n",
       "                                                                             &#x27;4 &#x27;\n",
       "                                                                             &#x27;months&#x27;,\n",
       "                                                                             &#x27;Payment &#x27;\n",
       "                                                                             &#x27;delayed &#x27;\n",
       "                                                                             &#x27;5 &#x27;\n",
       "                                                                             &#x27;months&#x27;,\n",
       "                                                                             &#x27;Payment &#x27;\n",
       "                                                                             &#x27;delayed &#x27;\n",
       "                                                                             &#x27;6 &#x27;\n",
       "                                                                             &#x27;months&#x27;,\n",
       "                                                                             &#x27;Payment &#x27;\n",
       "                                                                             &#x27;delayed &#x27;\n",
       "                                                                             &#x27;8 &#x27;\n",
       "                                                                             &#x27;months&#x27;]],\n",
       "                                                                drop=&#x27;first&#x27;,\n",
       "                                                                sparse=False))]),\n",
       "                                 [&#x27;sex&#x27;, &#x27;education&#x27;, &#x27;marriage&#x27;,\n",
       "                                  &#x27;payment_status_sep&#x27;, &#x27;payment_status_aug&#x27;,\n",
       "                                  &#x27;payment_status_jul&#x27;, &#x27;payment_status_jun&#x27;,\n",
       "                                  &#x27;payment_status_may&#x27;,\n",
       "                                  &#x27;payment_status_apr&#x27;])])</pre></div></div></div><div class=\"sk-parallel\"><div class=\"sk-parallel-item\"><div class=\"sk-item\"><div class=\"sk-label-container\"><div class=\"sk-label sk-toggleable\"><input class=\"sk-toggleable__control sk-hidden--visually\" id=\"sk-estimator-id-3\" type=\"checkbox\" ><label for=\"sk-estimator-id-3\" class=\"sk-toggleable__label sk-toggleable__label-arrow\">numerical</label><div class=\"sk-toggleable__content\"><pre>[&#x27;limit_bal&#x27;, &#x27;age&#x27;, &#x27;bill_statement_sep&#x27;, &#x27;bill_statement_aug&#x27;, &#x27;bill_statement_jul&#x27;, &#x27;bill_statement_jun&#x27;, &#x27;bill_statement_may&#x27;, &#x27;bill_statement_apr&#x27;, &#x27;previous_payment_sep&#x27;, &#x27;previous_payment_aug&#x27;, &#x27;previous_payment_jul&#x27;, &#x27;previous_payment_jun&#x27;, &#x27;previous_payment_may&#x27;, &#x27;previous_payment_apr&#x27;]</pre></div></div></div><div class=\"sk-serial\"><div class=\"sk-item\"><div class=\"sk-serial\"><div class=\"sk-item\"><div class=\"sk-estimator sk-toggleable\"><input class=\"sk-toggleable__control sk-hidden--visually\" id=\"sk-estimator-id-4\" type=\"checkbox\" ><label for=\"sk-estimator-id-4\" class=\"sk-toggleable__label sk-toggleable__label-arrow\">SimpleImputer</label><div class=\"sk-toggleable__content\"><pre>SimpleImputer(strategy=&#x27;median&#x27;)</pre></div></div></div></div></div></div></div></div><div class=\"sk-parallel-item\"><div class=\"sk-item\"><div class=\"sk-label-container\"><div class=\"sk-label sk-toggleable\"><input class=\"sk-toggleable__control sk-hidden--visually\" id=\"sk-estimator-id-5\" type=\"checkbox\" ><label for=\"sk-estimator-id-5\" class=\"sk-toggleable__label sk-toggleable__label-arrow\">categorical</label><div class=\"sk-toggleable__content\"><pre>[&#x27;sex&#x27;, &#x27;education&#x27;, &#x27;marriage&#x27;, &#x27;payment_status_sep&#x27;, &#x27;payment_status_aug&#x27;, &#x27;payment_status_jul&#x27;, &#x27;payment_status_jun&#x27;, &#x27;payment_status_may&#x27;, &#x27;payment_status_apr&#x27;]</pre></div></div></div><div class=\"sk-serial\"><div class=\"sk-item\"><div class=\"sk-serial\"><div class=\"sk-item\"><div class=\"sk-estimator sk-toggleable\"><input class=\"sk-toggleable__control sk-hidden--visually\" id=\"sk-estimator-id-6\" type=\"checkbox\" ><label for=\"sk-estimator-id-6\" class=\"sk-toggleable__label sk-toggleable__label-arrow\">SimpleImputer</label><div class=\"sk-toggleable__content\"><pre>SimpleImputer(strategy=&#x27;most_frequent&#x27;)</pre></div></div></div><div class=\"sk-item\"><div class=\"sk-estimator sk-toggleable\"><input class=\"sk-toggleable__control sk-hidden--visually\" id=\"sk-estimator-id-7\" type=\"checkbox\" ><label for=\"sk-estimator-id-7\" class=\"sk-toggleable__label sk-toggleable__label-arrow\">OneHotEncoder</label><div class=\"sk-toggleable__content\"><pre>OneHotEncoder(categories=[[&#x27;Female&#x27;, &#x27;Male&#x27;],\n",
       "                          [&#x27;University&#x27;, &#x27;Graduate school&#x27;, &#x27;High school&#x27;,\n",
       "                           &#x27;Others&#x27;],\n",
       "                          [&#x27;Married&#x27;, &#x27;Single&#x27;, &#x27;Others&#x27;],\n",
       "                          [&#x27;Payment delayed 2 months&#x27;, &#x27;Unknown&#x27;, &#x27;Payed duly&#x27;,\n",
       "                           &#x27;Payment delayed 1 month&#x27;,\n",
       "                           &#x27;Payment delayed 3 months&#x27;,\n",
       "                           &#x27;Payment delayed 4 months&#x27;,\n",
       "                           &#x27;Payment delayed 7 months&#x27;,\n",
       "                           &#x27;Payment delayed 5 months&#x27;,\n",
       "                           &#x27;Payment delayed 8 months&#x27;,\n",
       "                           &#x27;Payment delayed 6 months&#x27;],\n",
       "                          [&#x27;Unkno...\n",
       "                           &#x27;Payment delayed 3 months&#x27;,\n",
       "                           &#x27;Payment delayed 7 months&#x27;,\n",
       "                           &#x27;Payment delayed 4 months&#x27;,\n",
       "                           &#x27;Payment delayed 5 months&#x27;,\n",
       "                           &#x27;Payment delayed 6 months&#x27;,\n",
       "                           &#x27;Payment delayed 8 months&#x27;],\n",
       "                          [&#x27;Unknown&#x27;, &#x27;Payment delayed 2 months&#x27;, &#x27;Payed duly&#x27;,\n",
       "                           &#x27;Payment delayed 7 months&#x27;,\n",
       "                           &#x27;Payment delayed 3 months&#x27;,\n",
       "                           &#x27;Payment delayed 4 months&#x27;,\n",
       "                           &#x27;Payment delayed 5 months&#x27;,\n",
       "                           &#x27;Payment delayed 6 months&#x27;,\n",
       "                           &#x27;Payment delayed 8 months&#x27;]],\n",
       "              drop=&#x27;first&#x27;, sparse=False)</pre></div></div></div></div></div></div></div></div></div></div><div class=\"sk-item\"><div class=\"sk-estimator sk-toggleable\"><input class=\"sk-toggleable__control sk-hidden--visually\" id=\"sk-estimator-id-8\" type=\"checkbox\" ><label for=\"sk-estimator-id-8\" class=\"sk-toggleable__label sk-toggleable__label-arrow\">DecisionTreeClassifier</label><div class=\"sk-toggleable__content\"><pre>DecisionTreeClassifier(random_state=42)</pre></div></div></div></div></div></div></div>"
      ],
      "text/plain": [
       "Pipeline(steps=[('preprocessor',\n",
       "                 ColumnTransformer(transformers=[('numerical',\n",
       "                                                  Pipeline(steps=[('imputer',\n",
       "                                                                   SimpleImputer(strategy='median'))]),\n",
       "                                                  ['limit_bal', 'age',\n",
       "                                                   'bill_statement_sep',\n",
       "                                                   'bill_statement_aug',\n",
       "                                                   'bill_statement_jul',\n",
       "                                                   'bill_statement_jun',\n",
       "                                                   'bill_statement_may',\n",
       "                                                   'bill_statement_apr',\n",
       "                                                   'previous_payment_sep',\n",
       "                                                   'previous_payment_aug',\n",
       "                                                   'previous_payment_j...\n",
       "                                                                                              '4 '\n",
       "                                                                                              'months',\n",
       "                                                                                              'Payment '\n",
       "                                                                                              'delayed '\n",
       "                                                                                              '5 '\n",
       "                                                                                              'months',\n",
       "                                                                                              'Payment '\n",
       "                                                                                              'delayed '\n",
       "                                                                                              '6 '\n",
       "                                                                                              'months',\n",
       "                                                                                              'Payment '\n",
       "                                                                                              'delayed '\n",
       "                                                                                              '8 '\n",
       "                                                                                              'months']],\n",
       "                                                                                 drop='first',\n",
       "                                                                                 sparse=False))]),\n",
       "                                                  ['sex', 'education',\n",
       "                                                   'marriage',\n",
       "                                                   'payment_status_sep',\n",
       "                                                   'payment_status_aug',\n",
       "                                                   'payment_status_jul',\n",
       "                                                   'payment_status_jun',\n",
       "                                                   'payment_status_may',\n",
       "                                                   'payment_status_apr'])])),\n",
       "                ('classifier', DecisionTreeClassifier(random_state=42))])"
      ]
     },
     "execution_count": 9,
     "metadata": {},
     "output_type": "execute_result"
    }
   ],
   "source": [
    "# 8. Fit the Pipeline to the data:\n",
    "tree_pipeline.fit(X_train, y_train)"
   ]
  },
  {
   "cell_type": "code",
   "execution_count": 10,
   "id": "professional-hearing",
   "metadata": {},
   "outputs": [
    {
     "data": {
      "image/png": "[encoded data removed]",
      "text/plain": [
       "<Figure size 864x432 with 2 Axes>"
      ]
     },
     "metadata": {
      "needs_background": "light"
     },
     "output_type": "display_data"
    }
   ],
   "source": [
    "# 9. Evaluate the performance of the entire Pipeline:\n",
    "\n",
    "from sklearn import metrics\n",
    "import matplotlib.pyplot as plt\n",
    "import seaborn as sns\n",
    "\n",
    "def performance_evaluation_report(model, X_test, y_test, show_plot=False, labels=None, show_pr_curve=False):\n",
    "    '''\n",
    "    Function for creating a performance report of a classification model.\n",
    "    \n",
    "    Parameters\n",
    "    ----------\n",
    "    model : scikit-learn estimator\n",
    "        A fitted estimator for classification problems.\n",
    "    X_test : pd.DataFrame\n",
    "        DataFrame with features matching y_test\n",
    "    y_test : array/pd.Series\n",
    "        Target of a classification problem.\n",
    "    show_plot : bool\n",
    "        Flag whether to show the plot\n",
    "    labels : list\n",
    "        List with the class names.\n",
    "    show_pr_curve : bool\n",
    "        Flag whether to also show the PR-curve. For this to take effect, \n",
    "        show_plot must be True.\n",
    "        \n",
    "    Return\n",
    "    ------\n",
    "    stats : pd.Series\n",
    "        A series with the most important evaluation metrics\n",
    "    '''\n",
    "\n",
    "    y_pred = model.predict(X_test)\n",
    "    y_pred_prob = model.predict_proba(X_test)[:, 1]\n",
    "\n",
    "    cm = metrics.confusion_matrix(y_test, y_pred)\n",
    "    tn, fp, fn, tp = cm.ravel()\n",
    "\n",
    "    fpr, tpr, threshold = metrics.roc_curve(y_test, y_pred_prob)\n",
    "    roc_auc = metrics.auc(fpr, tpr)\n",
    "\n",
    "    precision, recall, thresholds = metrics.precision_recall_curve(\n",
    "        y_test, y_pred_prob)\n",
    "    pr_auc = metrics.auc(recall, precision)\n",
    "\n",
    "    if show_plot:\n",
    "\n",
    "        if labels is None:\n",
    "            labels = ['Negative', 'Positive']\n",
    "\n",
    "        N_SUBPLOTS = 3 if show_pr_curve else 2\n",
    "        PLOT_WIDTH = 15 if show_pr_curve else 12\n",
    "        PLOT_HEIGHT = 5 if show_pr_curve else 6\n",
    "\n",
    "        fig, ax = plt.subplots(\n",
    "            1, N_SUBPLOTS, figsize=(PLOT_WIDTH, PLOT_HEIGHT))\n",
    "        fig.suptitle('Performance Evaluation', fontsize=16)\n",
    "\n",
    "        sns.heatmap(cm, annot=True, fmt=\"d\", linewidths=.5, cmap='BuGn_r', square=True, cbar=False, ax=ax[0],\n",
    "                    annot_kws={\"ha\": 'center', \"va\": 'center'})\n",
    "        ax[0].set(xlabel='Predicted label',\n",
    "                  ylabel='Actual label', title='Confusion Matrix')\n",
    "        ax[0].xaxis.set_ticklabels(labels)\n",
    "        ax[0].yaxis.set_ticklabels(labels)\n",
    "\n",
    "        ax[1].plot(fpr, tpr, 'b-', label=f'ROC-AUC = {roc_auc:.2f}')\n",
    "        ax[1].set(xlabel='False Positive Rate',\n",
    "                  ylabel='True Positive Rate', title='ROC Curve')\n",
    "        ax[1].plot(fp/(fp+tn), tp/(tp+fn), 'ro',\n",
    "                   markersize=8, label='Decision Point')\n",
    "        ax[1].plot([0, 1], [0, 1], 'r--')\n",
    "        ax[1].legend(loc='lower right')\n",
    "\n",
    "        if show_pr_curve:\n",
    "\n",
    "            ax[2].plot(recall, precision, label=f'PR-AUC = {pr_auc:.2f}')\n",
    "            ax[2].set(xlabel='Recall', ylabel='Precision',\n",
    "                      title='Precision-Recall Curve')\n",
    "            ax[2].legend()\n",
    "\n",
    "#         print('#######################')\n",
    "#         print('Evaluation metrics ####')\n",
    "#         print('#######################')\n",
    "#         print(f'Accuracy: {metrics.accuracy_score(y_test, y_pred):.4f}')\n",
    "#         print(f'Precision: {metrics.precision_score(y_test, y_pred):.4f}')\n",
    "#         print(f'Recall (Sensitivity): {metrics.recall_score(y_test, y_pred):.4f}')\n",
    "#         print(f'Specificity: {(tn / (tn + fp)):.4f}')\n",
    "#         print(f'F1-Score: {metrics.f1_score(y_test, y_pred):.4f}')\n",
    "#         print(f\"Cohen's Kappa: {metrics.cohen_kappa_score(y_test, y_pred):.4f}\")\n",
    "\n",
    "    stats = {'accuracy': metrics.accuracy_score(y_test, y_pred),\n",
    "             'precision': metrics.precision_score(y_test, y_pred),\n",
    "             'recall': metrics.recall_score(y_test, y_pred),\n",
    "             'specificity': (tn / (tn + fp)),\n",
    "             'f1_score': metrics.f1_score(y_test, y_pred),\n",
    "             'cohens_kappa': metrics.cohen_kappa_score(y_test, y_pred),\n",
    "             'roc_auc': roc_auc,\n",
    "             'pr_auc': pr_auc}\n",
    "\n",
    "    return stats\n",
    "\n",
    "LABELS = ['No Default', 'Default']\n",
    "tree_perf = performance_evaluation_report(tree_pipeline, X_test,y_test, labels=LABELS, show_plot=True)"
   ]
  },
  {
   "cell_type": "markdown",
   "id": "traditional-keeping",
   "metadata": {},
   "source": [
    "## Remove outliers\n"
   ]
  },
  {
   "cell_type": "code",
   "execution_count": 11,
   "id": "general-faculty",
   "metadata": {},
   "outputs": [],
   "source": [
    "# how to create a custom transformer to detect and modify outliers.\n",
    "from sklearn.base import BaseEstimator, TransformerMixin"
   ]
  },
  {
   "cell_type": "code",
   "execution_count": 12,
   "id": "french-symbol",
   "metadata": {},
   "outputs": [],
   "source": [
    "class OutlierRemover(BaseEstimator, TransformerMixin):\n",
    "                def __init__(self, n_std=3):\n",
    "                    self.n_std = n_std\n",
    "                def fit(self, X, y = None):\n",
    "                    if np.isnan(X).any(axis=None):\n",
    "                        raise ValueError('''There are missing values in the array! Please remove them.''')\n",
    "                    mean_vec = np.mean(X, axis=0)\n",
    "                    std_vec = np.std(X, axis=0)\n",
    "                    self.upper_band_ = mean_vec + self.n_std * std_vec\n",
    "                    self.lower_band_ = mean_vec - self.n_std * std_vec\n",
    "                    self.n_features_ = len(self.upper_band_)\n",
    "                    return self\n",
    "                def transform(self, X, y = None):\n",
    "                    X_copy = pd.DataFrame(X.copy())\n",
    "                    upper_band = np.repeat(\n",
    "                    self.upper_band_.reshape(self.n_features_, -1),\n",
    "                    len(X_copy),\n",
    "                    axis=1).transpose()\n",
    "                    lower_band = np.repeat(\n",
    "                        self.lower_band_.reshape(self.n_features_, -1),\n",
    "                        len(X_copy),\n",
    "                        axis=1).transpose()\n",
    "                    X_copy[X_copy >= upper_band] = upper_band\n",
    "                    X_copy[X_copy <= lower_band] = lower_band\n",
    "                    return X_copy.values\n"
   ]
  },
  {
   "cell_type": "code",
   "execution_count": 13,
   "id": "cross-elimination",
   "metadata": {},
   "outputs": [],
   "source": [
    "# 3. Add the OutlierRemover to the numerical Pipeline:\n",
    "num_pipeline = Pipeline(steps=[('imputer', SimpleImputer(strategy='median')), \n",
    "                               ('outliers', OutlierRemover())])"
   ]
  },
  {
   "cell_type": "code",
   "execution_count": 14,
   "id": "beginning-likelihood",
   "metadata": {},
   "outputs": [
    {
     "data": {
      "image/png": "[encoded data removed]",
      "text/plain": [
       "<Figure size 864x432 with 2 Axes>"
      ]
     },
     "metadata": {
      "needs_background": "light"
     },
     "output_type": "display_data"
    }
   ],
   "source": [
    "# 4. Run the rest of the Pipeline, to compare the results:\n",
    "preprocessor = ColumnTransformer(transformers=[\n",
    "   ('numerical', num_pipeline, num_features),\n",
    "   ('categorical', cat_pipeline, cat_features)],\n",
    "   remainder='drop')\n",
    "dec_tree = DecisionTreeClassifier(random_state=42)\n",
    "tree_pipeline = Pipeline(steps=[('preprocessor', preprocessor),\n",
    "                               ('classifier', dec_tree)])\n",
    "tree_pipeline.fit(X_train, y_train)\n",
    "tree_perf = performance_evaluation_report(tree_pipeline, X_test,\n",
    "                                         y_test, labels=LABELS, show_plot=True)\n"
   ]
  },
  {
   "cell_type": "markdown",
   "id": "medieval-charlotte",
   "metadata": {},
   "source": [
    "## Tuning hyperparameters using grid searches and cross-validation\n",
    "\n",
    "#### Hyperparameters:\n",
    "1. External characteristic of the model Not estimated based on data\n",
    "1. Can be considered the model's settings Set before the training phase\n",
    "1. Tuning them can result in better performance \n",
    "\n",
    "#### Parameters:\n",
    "1. Internal characteristic of the model\n",
    "1. Estimated based on data, for example, the coefficients of linear regression \n",
    "1. Learned during the training phase"
   ]
  },
  {
   "cell_type": "code",
   "execution_count": 15,
   "id": "funded-genius",
   "metadata": {},
   "outputs": [],
   "source": [
    "# 1. Import the libraries:\n",
    "from sklearn.model_selection import (GridSearchCV, \n",
    "                                     cross_val_score,\n",
    "                                     RandomizedSearchCV, \n",
    "                                     cross_validate, \n",
    "                                     StratifiedKFold)"
   ]
  },
  {
   "cell_type": "code",
   "execution_count": 16,
   "id": "governing-advancement",
   "metadata": {},
   "outputs": [],
   "source": [
    "# 2. Define a cross-validation scheme:\n",
    "k_fold = StratifiedKFold(5, shuffle=True, random_state=42)"
   ]
  },
  {
   "cell_type": "code",
   "execution_count": 17,
   "id": "coated-racing",
   "metadata": {},
   "outputs": [
    {
     "data": {
      "text/plain": [
       "array([0.72145833, 0.72916667, 0.73583333, 0.71916667, 0.719375  ])"
      ]
     },
     "execution_count": 17,
     "metadata": {},
     "output_type": "execute_result"
    }
   ],
   "source": [
    "# 3. Evaluate the Pipeline using cross-validation:\n",
    "cross_val_score(tree_pipeline, X_train, y_train, cv=k_fold)\n"
   ]
  },
  {
   "cell_type": "code",
   "execution_count": 18,
   "id": "northern-ready",
   "metadata": {},
   "outputs": [
    {
     "data": {
      "text/plain": [
       "{'fit_time': array([0.35585403, 0.33785272, 0.3366673 , 0.341429  , 0.33353424]),\n",
       " 'score_time': array([0.02926803, 0.02607918, 0.0307467 , 0.02997088, 0.02860975]),\n",
       " 'test_accuracy': array([0.72145833, 0.72916667, 0.73583333, 0.71916667, 0.719375  ]),\n",
       " 'test_precision': array([0.38115817, 0.39469027, 0.40836299, 0.37798635, 0.37047101]),\n",
       " 'test_recall': array([0.41525424, 0.41996234, 0.43220339, 0.41713748, 0.38548539]),\n",
       " 'test_roc_auc': array([0.61161933, 0.6184108 , 0.62784854, 0.61172664, 0.59994054])}"
      ]
     },
     "execution_count": 18,
     "metadata": {},
     "output_type": "execute_result"
    }
   ],
   "source": [
    "# 4. Add extra metrics to the cross-validation:\n",
    "cross_validate(tree_pipeline, X_train, y_train, cv=k_fold, scoring=['accuracy', 'precision', 'recall', 'roc_auc'])"
   ]
  },
  {
   "cell_type": "code",
   "execution_count": 19,
   "id": "impressive-muscle",
   "metadata": {},
   "outputs": [],
   "source": [
    "# 5. Define the parameter grid:\n",
    "param_grid = {'classifier__criterion': ['entropy', 'gini'],\n",
    "             'classifier__max_depth': range(3, 11),\n",
    "             'classifier__min_samples_leaf': range(2, 11),\n",
    "             'preprocessor__numerical__outliers__n_std': [3, 4]}"
   ]
  },
  {
   "cell_type": "code",
   "execution_count": 20,
   "id": "informal-perth",
   "metadata": {},
   "outputs": [
    {
     "name": "stdout",
     "output_type": "stream",
     "text": [
      "Fitting 5 folds for each of 288 candidates, totalling 1440 fits\n"
     ]
    },
    {
     "data": {
      "text/html": [
       "<style>#sk-container-id-2 {color: black;background-color: white;}#sk-container-id-2 pre{padding: 0;}#sk-container-id-2 div.sk-toggleable {background-color: white;}#sk-container-id-2 label.sk-toggleable__label {cursor: pointer;display: block;width: 100%;margin-bottom: 0;padding: 0.3em;box-sizing: border-box;text-align: center;}#sk-container-id-2 label.sk-toggleable__label-arrow:before {content: \"▸\";float: left;margin-right: 0.25em;color: #696969;}#sk-container-id-2 label.sk-toggleable__label-arrow:hover:before {color: black;}#sk-container-id-2 div.sk-estimator:hover label.sk-toggleable__label-arrow:before {color: black;}#sk-container-id-2 div.sk-toggleable__content {max-height: 0;max-width: 0;overflow: hidden;text-align: left;background-color: #f0f8ff;}#sk-container-id-2 div.sk-toggleable__content pre {margin: 0.2em;color: black;border-radius: 0.25em;background-color: #f0f8ff;}#sk-container-id-2 input.sk-toggleable__control:checked~div.sk-toggleable__content {max-height: 200px;max-width: 100%;overflow: auto;}#sk-container-id-2 input.sk-toggleable__control:checked~label.sk-toggleable__label-arrow:before {content: \"▾\";}#sk-container-id-2 div.sk-estimator input.sk-toggleable__control:checked~label.sk-toggleable__label {background-color: #d4ebff;}#sk-container-id-2 div.sk-label input.sk-toggleable__control:checked~label.sk-toggleable__label {background-color: #d4ebff;}#sk-container-id-2 input.sk-hidden--visually {border: 0;clip: rect(1px 1px 1px 1px);clip: rect(1px, 1px, 1px, 1px);height: 1px;margin: -1px;overflow: hidden;padding: 0;position: absolute;width: 1px;}#sk-container-id-2 div.sk-estimator {font-family: monospace;background-color: #f0f8ff;border: 1px dotted black;border-radius: 0.25em;box-sizing: border-box;margin-bottom: 0.5em;}#sk-container-id-2 div.sk-estimator:hover {background-color: #d4ebff;}#sk-container-id-2 div.sk-parallel-item::after {content: \"\";width: 100%;border-bottom: 1px solid gray;flex-grow: 1;}#sk-container-id-2 div.sk-label:hover label.sk-toggleable__label {background-color: #d4ebff;}#sk-container-id-2 div.sk-serial::before {content: \"\";position: absolute;border-left: 1px solid gray;box-sizing: border-box;top: 0;bottom: 0;left: 50%;z-index: 0;}#sk-container-id-2 div.sk-serial {display: flex;flex-direction: column;align-items: center;background-color: white;padding-right: 0.2em;padding-left: 0.2em;position: relative;}#sk-container-id-2 div.sk-item {position: relative;z-index: 1;}#sk-container-id-2 div.sk-parallel {display: flex;align-items: stretch;justify-content: center;background-color: white;position: relative;}#sk-container-id-2 div.sk-item::before, #sk-container-id-2 div.sk-parallel-item::before {content: \"\";position: absolute;border-left: 1px solid gray;box-sizing: border-box;top: 0;bottom: 0;left: 50%;z-index: -1;}#sk-container-id-2 div.sk-parallel-item {display: flex;flex-direction: column;z-index: 1;position: relative;background-color: white;}#sk-container-id-2 div.sk-parallel-item:first-child::after {align-self: flex-end;width: 50%;}#sk-container-id-2 div.sk-parallel-item:last-child::after {align-self: flex-start;width: 50%;}#sk-container-id-2 div.sk-parallel-item:only-child::after {width: 0;}#sk-container-id-2 div.sk-dashed-wrapped {border: 1px dashed gray;margin: 0 0.4em 0.5em 0.4em;box-sizing: border-box;padding-bottom: 0.4em;background-color: white;}#sk-container-id-2 div.sk-label label {font-family: monospace;font-weight: bold;display: inline-block;line-height: 1.2em;}#sk-container-id-2 div.sk-label-container {text-align: center;}#sk-container-id-2 div.sk-container {/* jupyter's `normalize.less` sets `[hidden] { display: none; }` but bootstrap.min.css set `[hidden] { display: none !important; }` so we also need the `!important` here to be able to override the default hidden behavior on the sphinx rendered scikit-learn.org. See: https://github.com/scikit-learn/scikit-learn/issues/21755 */display: inline-block !important;position: relative;}#sk-container-id-2 div.sk-text-repr-fallback {display: none;}</style><div id=\"sk-container-id-2\" class=\"sk-top-container\"><div class=\"sk-text-repr-fallback\"><pre>GridSearchCV(cv=StratifiedKFold(n_splits=5, random_state=42, shuffle=True),\n",
       "             estimator=Pipeline(steps=[(&#x27;preprocessor&#x27;,\n",
       "                                        ColumnTransformer(transformers=[(&#x27;numerical&#x27;,\n",
       "                                                                         Pipeline(steps=[(&#x27;imputer&#x27;,\n",
       "                                                                                          SimpleImputer(strategy=&#x27;median&#x27;)),\n",
       "                                                                                         (&#x27;outliers&#x27;,\n",
       "                                                                                          OutlierRemover())]),\n",
       "                                                                         [&#x27;limit_bal&#x27;,\n",
       "                                                                          &#x27;age&#x27;,\n",
       "                                                                          &#x27;bill_statement_sep&#x27;,\n",
       "                                                                          &#x27;bill_statement_aug&#x27;,\n",
       "                                                                          &#x27;bill_statement_jul&#x27;,\n",
       "                                                                          &#x27;bill_statement...\n",
       "                                                                          &#x27;payment_status_jul&#x27;,\n",
       "                                                                          &#x27;payment_status_jun&#x27;,\n",
       "                                                                          &#x27;payment_status_may&#x27;,\n",
       "                                                                          &#x27;payment_status_apr&#x27;])])),\n",
       "                                       (&#x27;classifier&#x27;,\n",
       "                                        DecisionTreeClassifier(random_state=42))]),\n",
       "             n_jobs=-1,\n",
       "             param_grid={&#x27;classifier__criterion&#x27;: [&#x27;entropy&#x27;, &#x27;gini&#x27;],\n",
       "                         &#x27;classifier__max_depth&#x27;: range(3, 11),\n",
       "                         &#x27;classifier__min_samples_leaf&#x27;: range(2, 11),\n",
       "                         &#x27;preprocessor__numerical__outliers__n_std&#x27;: [3, 4]},\n",
       "             scoring=&#x27;recall&#x27;, verbose=1)</pre><b>In a Jupyter environment, please rerun this cell to show the HTML representation or trust the notebook. <br />On GitHub, the HTML representation is unable to render, please try loading this page with nbviewer.org.</b></div><div class=\"sk-container\" hidden><div class=\"sk-item sk-dashed-wrapped\"><div class=\"sk-label-container\"><div class=\"sk-label sk-toggleable\"><input class=\"sk-toggleable__control sk-hidden--visually\" id=\"sk-estimator-id-9\" type=\"checkbox\" ><label for=\"sk-estimator-id-9\" class=\"sk-toggleable__label sk-toggleable__label-arrow\">GridSearchCV</label><div class=\"sk-toggleable__content\"><pre>GridSearchCV(cv=StratifiedKFold(n_splits=5, random_state=42, shuffle=True),\n",
       "             estimator=Pipeline(steps=[(&#x27;preprocessor&#x27;,\n",
       "                                        ColumnTransformer(transformers=[(&#x27;numerical&#x27;,\n",
       "                                                                         Pipeline(steps=[(&#x27;imputer&#x27;,\n",
       "                                                                                          SimpleImputer(strategy=&#x27;median&#x27;)),\n",
       "                                                                                         (&#x27;outliers&#x27;,\n",
       "                                                                                          OutlierRemover())]),\n",
       "                                                                         [&#x27;limit_bal&#x27;,\n",
       "                                                                          &#x27;age&#x27;,\n",
       "                                                                          &#x27;bill_statement_sep&#x27;,\n",
       "                                                                          &#x27;bill_statement_aug&#x27;,\n",
       "                                                                          &#x27;bill_statement_jul&#x27;,\n",
       "                                                                          &#x27;bill_statement...\n",
       "                                                                          &#x27;payment_status_jul&#x27;,\n",
       "                                                                          &#x27;payment_status_jun&#x27;,\n",
       "                                                                          &#x27;payment_status_may&#x27;,\n",
       "                                                                          &#x27;payment_status_apr&#x27;])])),\n",
       "                                       (&#x27;classifier&#x27;,\n",
       "                                        DecisionTreeClassifier(random_state=42))]),\n",
       "             n_jobs=-1,\n",
       "             param_grid={&#x27;classifier__criterion&#x27;: [&#x27;entropy&#x27;, &#x27;gini&#x27;],\n",
       "                         &#x27;classifier__max_depth&#x27;: range(3, 11),\n",
       "                         &#x27;classifier__min_samples_leaf&#x27;: range(2, 11),\n",
       "                         &#x27;preprocessor__numerical__outliers__n_std&#x27;: [3, 4]},\n",
       "             scoring=&#x27;recall&#x27;, verbose=1)</pre></div></div></div><div class=\"sk-parallel\"><div class=\"sk-parallel-item\"><div class=\"sk-item\"><div class=\"sk-label-container\"><div class=\"sk-label sk-toggleable\"><input class=\"sk-toggleable__control sk-hidden--visually\" id=\"sk-estimator-id-10\" type=\"checkbox\" ><label for=\"sk-estimator-id-10\" class=\"sk-toggleable__label sk-toggleable__label-arrow\">estimator: Pipeline</label><div class=\"sk-toggleable__content\"><pre>Pipeline(steps=[(&#x27;preprocessor&#x27;,\n",
       "                 ColumnTransformer(transformers=[(&#x27;numerical&#x27;,\n",
       "                                                  Pipeline(steps=[(&#x27;imputer&#x27;,\n",
       "                                                                   SimpleImputer(strategy=&#x27;median&#x27;)),\n",
       "                                                                  (&#x27;outliers&#x27;,\n",
       "                                                                   OutlierRemover())]),\n",
       "                                                  [&#x27;limit_bal&#x27;, &#x27;age&#x27;,\n",
       "                                                   &#x27;bill_statement_sep&#x27;,\n",
       "                                                   &#x27;bill_statement_aug&#x27;,\n",
       "                                                   &#x27;bill_statement_jul&#x27;,\n",
       "                                                   &#x27;bill_statement_jun&#x27;,\n",
       "                                                   &#x27;bill_statement_may&#x27;,\n",
       "                                                   &#x27;bill_statement_apr&#x27;,\n",
       "                                                   &#x27;previous_payment_sep&#x27;,\n",
       "                                                   &#x27;previous_pa...\n",
       "                                                                                              &#x27;4 &#x27;\n",
       "                                                                                              &#x27;months&#x27;,\n",
       "                                                                                              &#x27;Payment &#x27;\n",
       "                                                                                              &#x27;delayed &#x27;\n",
       "                                                                                              &#x27;5 &#x27;\n",
       "                                                                                              &#x27;months&#x27;,\n",
       "                                                                                              &#x27;Payment &#x27;\n",
       "                                                                                              &#x27;delayed &#x27;\n",
       "                                                                                              &#x27;6 &#x27;\n",
       "                                                                                              &#x27;months&#x27;,\n",
       "                                                                                              &#x27;Payment &#x27;\n",
       "                                                                                              &#x27;delayed &#x27;\n",
       "                                                                                              &#x27;8 &#x27;\n",
       "                                                                                              &#x27;months&#x27;]],\n",
       "                                                                                 drop=&#x27;first&#x27;,\n",
       "                                                                                 sparse=False))]),\n",
       "                                                  [&#x27;sex&#x27;, &#x27;education&#x27;,\n",
       "                                                   &#x27;marriage&#x27;,\n",
       "                                                   &#x27;payment_status_sep&#x27;,\n",
       "                                                   &#x27;payment_status_aug&#x27;,\n",
       "                                                   &#x27;payment_status_jul&#x27;,\n",
       "                                                   &#x27;payment_status_jun&#x27;,\n",
       "                                                   &#x27;payment_status_may&#x27;,\n",
       "                                                   &#x27;payment_status_apr&#x27;])])),\n",
       "                (&#x27;classifier&#x27;, DecisionTreeClassifier(random_state=42))])</pre></div></div></div><div class=\"sk-serial\"><div class=\"sk-item\"><div class=\"sk-serial\"><div class=\"sk-item sk-dashed-wrapped\"><div class=\"sk-label-container\"><div class=\"sk-label sk-toggleable\"><input class=\"sk-toggleable__control sk-hidden--visually\" id=\"sk-estimator-id-11\" type=\"checkbox\" ><label for=\"sk-estimator-id-11\" class=\"sk-toggleable__label sk-toggleable__label-arrow\">preprocessor: ColumnTransformer</label><div class=\"sk-toggleable__content\"><pre>ColumnTransformer(transformers=[(&#x27;numerical&#x27;,\n",
       "                                 Pipeline(steps=[(&#x27;imputer&#x27;,\n",
       "                                                  SimpleImputer(strategy=&#x27;median&#x27;)),\n",
       "                                                 (&#x27;outliers&#x27;,\n",
       "                                                  OutlierRemover())]),\n",
       "                                 [&#x27;limit_bal&#x27;, &#x27;age&#x27;, &#x27;bill_statement_sep&#x27;,\n",
       "                                  &#x27;bill_statement_aug&#x27;, &#x27;bill_statement_jul&#x27;,\n",
       "                                  &#x27;bill_statement_jun&#x27;, &#x27;bill_statement_may&#x27;,\n",
       "                                  &#x27;bill_statement_apr&#x27;, &#x27;previous_payment_sep&#x27;,\n",
       "                                  &#x27;previous_payment_aug&#x27;,\n",
       "                                  &#x27;previous_payment_jul...\n",
       "                                                                             &#x27;months&#x27;,\n",
       "                                                                             &#x27;Payment &#x27;\n",
       "                                                                             &#x27;delayed &#x27;\n",
       "                                                                             &#x27;3 &#x27;\n",
       "                                                                             &#x27;months&#x27;,\n",
       "                                                                             &#x27;Payment &#x27;\n",
       "                                                                             &#x27;delayed &#x27;\n",
       "                                                                             &#x27;4 &#x27;\n",
       "                                                                             &#x27;months&#x27;,\n",
       "                                                                             &#x27;Payment &#x27;\n",
       "                                                                             &#x27;delayed &#x27;\n",
       "                                                                             &#x27;5 &#x27;\n",
       "                                                                             &#x27;months&#x27;,\n",
       "                                                                             &#x27;Payment &#x27;\n",
       "                                                                             &#x27;delayed &#x27;\n",
       "                                                                             &#x27;6 &#x27;\n",
       "                                                                             &#x27;months&#x27;,\n",
       "                                                                             &#x27;Payment &#x27;\n",
       "                                                                             &#x27;delayed &#x27;\n",
       "                                                                             &#x27;8 &#x27;\n",
       "                                                                             &#x27;months&#x27;]],\n",
       "                                                                drop=&#x27;first&#x27;,\n",
       "                                                                sparse=False))]),\n",
       "                                 [&#x27;sex&#x27;, &#x27;education&#x27;, &#x27;marriage&#x27;,\n",
       "                                  &#x27;payment_status_sep&#x27;, &#x27;payment_status_aug&#x27;,\n",
       "                                  &#x27;payment_status_jul&#x27;, &#x27;payment_status_jun&#x27;,\n",
       "                                  &#x27;payment_status_may&#x27;,\n",
       "                                  &#x27;payment_status_apr&#x27;])])</pre></div></div></div><div class=\"sk-parallel\"><div class=\"sk-parallel-item\"><div class=\"sk-item\"><div class=\"sk-label-container\"><div class=\"sk-label sk-toggleable\"><input class=\"sk-toggleable__control sk-hidden--visually\" id=\"sk-estimator-id-12\" type=\"checkbox\" ><label for=\"sk-estimator-id-12\" class=\"sk-toggleable__label sk-toggleable__label-arrow\">numerical</label><div class=\"sk-toggleable__content\"><pre>[&#x27;limit_bal&#x27;, &#x27;age&#x27;, &#x27;bill_statement_sep&#x27;, &#x27;bill_statement_aug&#x27;, &#x27;bill_statement_jul&#x27;, &#x27;bill_statement_jun&#x27;, &#x27;bill_statement_may&#x27;, &#x27;bill_statement_apr&#x27;, &#x27;previous_payment_sep&#x27;, &#x27;previous_payment_aug&#x27;, &#x27;previous_payment_jul&#x27;, &#x27;previous_payment_jun&#x27;, &#x27;previous_payment_may&#x27;, &#x27;previous_payment_apr&#x27;]</pre></div></div></div><div class=\"sk-serial\"><div class=\"sk-item\"><div class=\"sk-serial\"><div class=\"sk-item\"><div class=\"sk-estimator sk-toggleable\"><input class=\"sk-toggleable__control sk-hidden--visually\" id=\"sk-estimator-id-13\" type=\"checkbox\" ><label for=\"sk-estimator-id-13\" class=\"sk-toggleable__label sk-toggleable__label-arrow\">SimpleImputer</label><div class=\"sk-toggleable__content\"><pre>SimpleImputer(strategy=&#x27;median&#x27;)</pre></div></div></div><div class=\"sk-item\"><div class=\"sk-estimator sk-toggleable\"><input class=\"sk-toggleable__control sk-hidden--visually\" id=\"sk-estimator-id-14\" type=\"checkbox\" ><label for=\"sk-estimator-id-14\" class=\"sk-toggleable__label sk-toggleable__label-arrow\">OutlierRemover</label><div class=\"sk-toggleable__content\"><pre>OutlierRemover()</pre></div></div></div></div></div></div></div></div><div class=\"sk-parallel-item\"><div class=\"sk-item\"><div class=\"sk-label-container\"><div class=\"sk-label sk-toggleable\"><input class=\"sk-toggleable__control sk-hidden--visually\" id=\"sk-estimator-id-15\" type=\"checkbox\" ><label for=\"sk-estimator-id-15\" class=\"sk-toggleable__label sk-toggleable__label-arrow\">categorical</label><div class=\"sk-toggleable__content\"><pre>[&#x27;sex&#x27;, &#x27;education&#x27;, &#x27;marriage&#x27;, &#x27;payment_status_sep&#x27;, &#x27;payment_status_aug&#x27;, &#x27;payment_status_jul&#x27;, &#x27;payment_status_jun&#x27;, &#x27;payment_status_may&#x27;, &#x27;payment_status_apr&#x27;]</pre></div></div></div><div class=\"sk-serial\"><div class=\"sk-item\"><div class=\"sk-serial\"><div class=\"sk-item\"><div class=\"sk-estimator sk-toggleable\"><input class=\"sk-toggleable__control sk-hidden--visually\" id=\"sk-estimator-id-16\" type=\"checkbox\" ><label for=\"sk-estimator-id-16\" class=\"sk-toggleable__label sk-toggleable__label-arrow\">SimpleImputer</label><div class=\"sk-toggleable__content\"><pre>SimpleImputer(strategy=&#x27;most_frequent&#x27;)</pre></div></div></div><div class=\"sk-item\"><div class=\"sk-estimator sk-toggleable\"><input class=\"sk-toggleable__control sk-hidden--visually\" id=\"sk-estimator-id-17\" type=\"checkbox\" ><label for=\"sk-estimator-id-17\" class=\"sk-toggleable__label sk-toggleable__label-arrow\">OneHotEncoder</label><div class=\"sk-toggleable__content\"><pre>OneHotEncoder(categories=[[&#x27;Female&#x27;, &#x27;Male&#x27;],\n",
       "                          [&#x27;University&#x27;, &#x27;Graduate school&#x27;, &#x27;High school&#x27;,\n",
       "                           &#x27;Others&#x27;],\n",
       "                          [&#x27;Married&#x27;, &#x27;Single&#x27;, &#x27;Others&#x27;],\n",
       "                          [&#x27;Payment delayed 2 months&#x27;, &#x27;Unknown&#x27;, &#x27;Payed duly&#x27;,\n",
       "                           &#x27;Payment delayed 1 month&#x27;,\n",
       "                           &#x27;Payment delayed 3 months&#x27;,\n",
       "                           &#x27;Payment delayed 4 months&#x27;,\n",
       "                           &#x27;Payment delayed 7 months&#x27;,\n",
       "                           &#x27;Payment delayed 5 months&#x27;,\n",
       "                           &#x27;Payment delayed 8 months&#x27;,\n",
       "                           &#x27;Payment delayed 6 months&#x27;],\n",
       "                          [&#x27;Unkno...\n",
       "                           &#x27;Payment delayed 3 months&#x27;,\n",
       "                           &#x27;Payment delayed 7 months&#x27;,\n",
       "                           &#x27;Payment delayed 4 months&#x27;,\n",
       "                           &#x27;Payment delayed 5 months&#x27;,\n",
       "                           &#x27;Payment delayed 6 months&#x27;,\n",
       "                           &#x27;Payment delayed 8 months&#x27;],\n",
       "                          [&#x27;Unknown&#x27;, &#x27;Payment delayed 2 months&#x27;, &#x27;Payed duly&#x27;,\n",
       "                           &#x27;Payment delayed 7 months&#x27;,\n",
       "                           &#x27;Payment delayed 3 months&#x27;,\n",
       "                           &#x27;Payment delayed 4 months&#x27;,\n",
       "                           &#x27;Payment delayed 5 months&#x27;,\n",
       "                           &#x27;Payment delayed 6 months&#x27;,\n",
       "                           &#x27;Payment delayed 8 months&#x27;]],\n",
       "              drop=&#x27;first&#x27;, sparse=False)</pre></div></div></div></div></div></div></div></div></div></div><div class=\"sk-item\"><div class=\"sk-estimator sk-toggleable\"><input class=\"sk-toggleable__control sk-hidden--visually\" id=\"sk-estimator-id-18\" type=\"checkbox\" ><label for=\"sk-estimator-id-18\" class=\"sk-toggleable__label sk-toggleable__label-arrow\">DecisionTreeClassifier</label><div class=\"sk-toggleable__content\"><pre>DecisionTreeClassifier(random_state=42)</pre></div></div></div></div></div></div></div></div></div></div></div></div>"
      ],
      "text/plain": [
       "GridSearchCV(cv=StratifiedKFold(n_splits=5, random_state=42, shuffle=True),\n",
       "             estimator=Pipeline(steps=[('preprocessor',\n",
       "                                        ColumnTransformer(transformers=[('numerical',\n",
       "                                                                         Pipeline(steps=[('imputer',\n",
       "                                                                                          SimpleImputer(strategy='median')),\n",
       "                                                                                         ('outliers',\n",
       "                                                                                          OutlierRemover())]),\n",
       "                                                                         ['limit_bal',\n",
       "                                                                          'age',\n",
       "                                                                          'bill_statement_sep',\n",
       "                                                                          'bill_statement_aug',\n",
       "                                                                          'bill_statement_jul',\n",
       "                                                                          'bill_statement...\n",
       "                                                                          'payment_status_jul',\n",
       "                                                                          'payment_status_jun',\n",
       "                                                                          'payment_status_may',\n",
       "                                                                          'payment_status_apr'])])),\n",
       "                                       ('classifier',\n",
       "                                        DecisionTreeClassifier(random_state=42))]),\n",
       "             n_jobs=-1,\n",
       "             param_grid={'classifier__criterion': ['entropy', 'gini'],\n",
       "                         'classifier__max_depth': range(3, 11),\n",
       "                         'classifier__min_samples_leaf': range(2, 11),\n",
       "                         'preprocessor__numerical__outliers__n_std': [3, 4]},\n",
       "             scoring='recall', verbose=1)"
      ]
     },
     "execution_count": 20,
     "metadata": {},
     "output_type": "execute_result"
    }
   ],
   "source": [
    "# 6. Run the grid search:\n",
    "classifier_gs = GridSearchCV(tree_pipeline, param_grid,\n",
    "                            scoring='recall',\n",
    "                            cv=k_fold, n_jobs=-1, verbose=1)\n",
    "classifier_gs.fit(X_train, y_train)"
   ]
  },
  {
   "cell_type": "code",
   "execution_count": 21,
   "id": "aerial-expression",
   "metadata": {},
   "outputs": [
    {
     "name": "stdout",
     "output_type": "stream",
     "text": [
      "Best parameters: {'classifier__criterion': 'gini', 'classifier__max_depth': 9, 'classifier__min_samples_leaf': 9, 'preprocessor__numerical__outliers__n_std': 4}\n",
      "Recall (Training set): 0.3724\n",
      "Recall (Test set): 0.3549\n"
     ]
    }
   ],
   "source": [
    "print(f'Best parameters: {classifier_gs.best_params_}')\n",
    "print(f'Recall (Training set): {classifier_gs.best_score_:.4f}')\n",
    "print(f'Recall (Test set): {metrics.recall_score(y_test, classifier_gs.predict(X_test)):.4f}')"
   ]
  },
  {
   "cell_type": "code",
   "execution_count": 22,
   "id": "romantic-farming",
   "metadata": {},
   "outputs": [
    {
     "data": {
      "image/png": "[encoded data removed]",
      "text/plain": [
       "<Figure size 864x432 with 2 Axes>"
      ]
     },
     "metadata": {
      "needs_background": "light"
     },
     "output_type": "display_data"
    }
   ],
   "source": [
    "# 7. Evaluate the performance of the grid search:\n",
    "LABELS = ['No Default', 'Default']\n",
    "tree_gs_perf = performance_evaluation_report(classifier_gs, X_test,\n",
    "                                            y_test, labels=LABELS,\n",
    "                                            show_plot=True)"
   ]
  },
  {
   "cell_type": "code",
   "execution_count": 23,
   "id": "integral-relaxation",
   "metadata": {},
   "outputs": [
    {
     "name": "stdout",
     "output_type": "stream",
     "text": [
      "Fitting 5 folds for each of 100 candidates, totalling 500 fits\n",
      "Best parameters: {'preprocessor__numerical__outliers__n_std': 3, 'classifier__min_samples_leaf': 6, 'classifier__max_depth': 7, 'classifier__criterion': 'gini'}\n",
      "Recall (Training set): 0.3730\n",
      "Recall (Test set): 0.4318\n"
     ]
    }
   ],
   "source": [
    "# 8. Run the randomized grid search:\n",
    "classifier_rs = RandomizedSearchCV(tree_pipeline, param_grid,\n",
    "                                  scoring='recall',\n",
    "                                  cv=k_fold, n_jobs=-1, verbose=1,\n",
    "                                  n_iter=100, random_state=42)\n",
    "\n",
    "classifier_rs.fit(X_test, y_test)\n",
    "\n",
    "print(f'Best parameters: {classifier_rs.best_params_}')\n",
    "print(f'Recall (Training set): {classifier_rs.best_score_:.4f}')\n",
    "print(f'Recall (Test set): {metrics.recall_score(y_test, classifier_rs.predict(X_test)):.4f}')"
   ]
  }
 ],
 "metadata": {
  "interpreter": {
   "hash": "31f2aee4e71d21fbe5cf8b01ff0e069b9275f58929596ceb00d14d90e3e16cd6"
  },
  "kernelspec": {
   "display_name": "Python 3.8.9 64-bit",
   "language": "python",
   "name": "python3"
  },
  "language_info": {
   "codemirror_mode": {
    "name": "ipython",
    "version": 3
   },
   "file_extension": ".py",
   "mimetype": "text/x-python",
   "name": "python",
   "nbconvert_exporter": "python",
   "pygments_lexer": "ipython3",
   "version": "3.8.9"
  },
  "metadata": {
   "interpreter": {
    "hash": "31f2aee4e71d21fbe5cf8b01ff0e069b9275f58929596ceb00d14d90e3e16cd6"
   }
  }
 },
 "nbformat": 4,
 "nbformat_minor": 5
}
